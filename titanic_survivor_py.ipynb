{
 "cells": [
  {
   "cell_type": "markdown",
   "id": "daf5e988-a714-430a-b024-58e453745e5d",
   "metadata": {
    "tags": []
   },
   "source": [
    "# Predicting the Survival of Titanic Passengers"
   ]
  },
  {
   "cell_type": "markdown",
   "id": "54a0c2ac-c8cd-4777-9b3a-52fbe32cfdda",
   "metadata": {},
   "source": [
    "### Step 1:\n",
    "Preprocess the data. Selection/generation/ transformation of categorical variables, useful variables etc all your discretion."
   ]
  },
  {
   "cell_type": "markdown",
   "id": "8a4b985b-ce89-47a1-8d36-58a28a45ab0c",
   "metadata": {},
   "source": [
    "1. Import necessary libraries and packages"
   ]
  },
  {
   "cell_type": "code",
   "execution_count": 1,
   "id": "bb2bf51c-f68f-43ab-b405-ff834a8a482e",
   "metadata": {},
   "outputs": [],
   "source": [
    "import pandas as pd\n",
    "import numpy as np\n",
    "import matplotlib.pyplot as plt\n",
    "import seaborn as sns"
   ]
  },
  {
   "cell_type": "markdown",
   "id": "c22dc2c1-d4ae-4e4c-917e-a1b829e55a2e",
   "metadata": {},
   "source": [
    "2. Import Titanic_train dataset and explore the dataset"
   ]
  },
  {
   "cell_type": "code",
   "execution_count": 2,
   "id": "f06a120f-89a8-4500-8e00-7c01fde8ee33",
   "metadata": {},
   "outputs": [],
   "source": [
    "train = pd.read_csv('train.csv')"
   ]
  },
  {
   "cell_type": "code",
   "execution_count": 3,
   "id": "a5722ada-c2c5-4268-87dd-a0bb35180713",
   "metadata": {},
   "outputs": [
    {
     "name": "stdout",
     "output_type": "stream",
     "text": [
      "<class 'pandas.core.frame.DataFrame'>\n",
      "RangeIndex: 891 entries, 0 to 890\n",
      "Data columns (total 12 columns):\n",
      " #   Column       Non-Null Count  Dtype  \n",
      "---  ------       --------------  -----  \n",
      " 0   PassengerId  891 non-null    int64  \n",
      " 1   Survived     891 non-null    int64  \n",
      " 2   Pclass       891 non-null    int64  \n",
      " 3   Name         891 non-null    object \n",
      " 4   Sex          891 non-null    object \n",
      " 5   Age          714 non-null    float64\n",
      " 6   SibSp        891 non-null    int64  \n",
      " 7   Parch        891 non-null    int64  \n",
      " 8   Ticket       891 non-null    object \n",
      " 9   Fare         891 non-null    float64\n",
      " 10  Cabin        204 non-null    object \n",
      " 11  Embarked     889 non-null    object \n",
      "dtypes: float64(2), int64(5), object(5)\n",
      "memory usage: 83.7+ KB\n"
     ]
    }
   ],
   "source": [
    "train.info()"
   ]
  },
  {
   "cell_type": "code",
   "execution_count": 4,
   "id": "65a12b84-6f6d-41fc-999a-01ebfe2a645a",
   "metadata": {},
   "outputs": [
    {
     "data": {
      "text/html": [
       "<div>\n",
       "<style scoped>\n",
       "    .dataframe tbody tr th:only-of-type {\n",
       "        vertical-align: middle;\n",
       "    }\n",
       "\n",
       "    .dataframe tbody tr th {\n",
       "        vertical-align: top;\n",
       "    }\n",
       "\n",
       "    .dataframe thead th {\n",
       "        text-align: right;\n",
       "    }\n",
       "</style>\n",
       "<table border=\"1\" class=\"dataframe\">\n",
       "  <thead>\n",
       "    <tr style=\"text-align: right;\">\n",
       "      <th></th>\n",
       "      <th>PassengerId</th>\n",
       "      <th>Survived</th>\n",
       "      <th>Pclass</th>\n",
       "      <th>Name</th>\n",
       "      <th>Sex</th>\n",
       "      <th>Age</th>\n",
       "      <th>SibSp</th>\n",
       "      <th>Parch</th>\n",
       "      <th>Ticket</th>\n",
       "      <th>Fare</th>\n",
       "      <th>Cabin</th>\n",
       "      <th>Embarked</th>\n",
       "    </tr>\n",
       "  </thead>\n",
       "  <tbody>\n",
       "    <tr>\n",
       "      <th>0</th>\n",
       "      <td>1</td>\n",
       "      <td>0</td>\n",
       "      <td>3</td>\n",
       "      <td>Braund, Mr. Owen Harris</td>\n",
       "      <td>male</td>\n",
       "      <td>22.0</td>\n",
       "      <td>1</td>\n",
       "      <td>0</td>\n",
       "      <td>A/5 21171</td>\n",
       "      <td>7.2500</td>\n",
       "      <td>NaN</td>\n",
       "      <td>S</td>\n",
       "    </tr>\n",
       "    <tr>\n",
       "      <th>1</th>\n",
       "      <td>2</td>\n",
       "      <td>1</td>\n",
       "      <td>1</td>\n",
       "      <td>Cumings, Mrs. John Bradley (Florence Briggs Th...</td>\n",
       "      <td>female</td>\n",
       "      <td>38.0</td>\n",
       "      <td>1</td>\n",
       "      <td>0</td>\n",
       "      <td>PC 17599</td>\n",
       "      <td>71.2833</td>\n",
       "      <td>C85</td>\n",
       "      <td>C</td>\n",
       "    </tr>\n",
       "    <tr>\n",
       "      <th>2</th>\n",
       "      <td>3</td>\n",
       "      <td>1</td>\n",
       "      <td>3</td>\n",
       "      <td>Heikkinen, Miss. Laina</td>\n",
       "      <td>female</td>\n",
       "      <td>26.0</td>\n",
       "      <td>0</td>\n",
       "      <td>0</td>\n",
       "      <td>STON/O2. 3101282</td>\n",
       "      <td>7.9250</td>\n",
       "      <td>NaN</td>\n",
       "      <td>S</td>\n",
       "    </tr>\n",
       "    <tr>\n",
       "      <th>3</th>\n",
       "      <td>4</td>\n",
       "      <td>1</td>\n",
       "      <td>1</td>\n",
       "      <td>Futrelle, Mrs. Jacques Heath (Lily May Peel)</td>\n",
       "      <td>female</td>\n",
       "      <td>35.0</td>\n",
       "      <td>1</td>\n",
       "      <td>0</td>\n",
       "      <td>113803</td>\n",
       "      <td>53.1000</td>\n",
       "      <td>C123</td>\n",
       "      <td>S</td>\n",
       "    </tr>\n",
       "    <tr>\n",
       "      <th>4</th>\n",
       "      <td>5</td>\n",
       "      <td>0</td>\n",
       "      <td>3</td>\n",
       "      <td>Allen, Mr. William Henry</td>\n",
       "      <td>male</td>\n",
       "      <td>35.0</td>\n",
       "      <td>0</td>\n",
       "      <td>0</td>\n",
       "      <td>373450</td>\n",
       "      <td>8.0500</td>\n",
       "      <td>NaN</td>\n",
       "      <td>S</td>\n",
       "    </tr>\n",
       "  </tbody>\n",
       "</table>\n",
       "</div>"
      ],
      "text/plain": [
       "   PassengerId  Survived  Pclass  \\\n",
       "0            1         0       3   \n",
       "1            2         1       1   \n",
       "2            3         1       3   \n",
       "3            4         1       1   \n",
       "4            5         0       3   \n",
       "\n",
       "                                                Name     Sex   Age  SibSp  \\\n",
       "0                            Braund, Mr. Owen Harris    male  22.0      1   \n",
       "1  Cumings, Mrs. John Bradley (Florence Briggs Th...  female  38.0      1   \n",
       "2                             Heikkinen, Miss. Laina  female  26.0      0   \n",
       "3       Futrelle, Mrs. Jacques Heath (Lily May Peel)  female  35.0      1   \n",
       "4                           Allen, Mr. William Henry    male  35.0      0   \n",
       "\n",
       "   Parch            Ticket     Fare Cabin Embarked  \n",
       "0      0         A/5 21171   7.2500   NaN        S  \n",
       "1      0          PC 17599  71.2833   C85        C  \n",
       "2      0  STON/O2. 3101282   7.9250   NaN        S  \n",
       "3      0            113803  53.1000  C123        S  \n",
       "4      0            373450   8.0500   NaN        S  "
      ]
     },
     "execution_count": 4,
     "metadata": {},
     "output_type": "execute_result"
    }
   ],
   "source": [
    "train.head()"
   ]
  },
  {
   "cell_type": "markdown",
   "id": "5e78495e-fb54-4711-ab25-883f6a619c03",
   "metadata": {},
   "source": [
    "3.1. Now, cleanse the dataset: check duplicity "
   ]
  },
  {
   "cell_type": "code",
   "execution_count": 5,
   "id": "08dd5518-ddaa-4bd9-bf7b-b6f0df98eda0",
   "metadata": {},
   "outputs": [
    {
     "data": {
      "text/plain": [
       "0"
      ]
     },
     "execution_count": 5,
     "metadata": {},
     "output_type": "execute_result"
    }
   ],
   "source": [
    "train.duplicated().sum()"
   ]
  },
  {
   "cell_type": "markdown",
   "id": "2e42407a-7f64-4267-87b3-850342b0e879",
   "metadata": {},
   "source": [
    "3.2. Check missing values and devise different strategies\n",
    "1) Cabin: 687 null values (77% of the total observations) \n",
    "2) Age: Age has 177 null values (20% of the observations)\n",
    "3) Embarked: 2 null values (0.0022% of the observations)"
   ]
  },
  {
   "cell_type": "code",
   "execution_count": 6,
   "id": "f4b52266-c787-4f59-8ef1-3e99f0f6fb61",
   "metadata": {},
   "outputs": [
    {
     "data": {
      "text/plain": [
       "PassengerId      0\n",
       "Survived         0\n",
       "Pclass           0\n",
       "Name             0\n",
       "Sex              0\n",
       "Age            177\n",
       "SibSp            0\n",
       "Parch            0\n",
       "Ticket           0\n",
       "Fare             0\n",
       "Cabin          687\n",
       "Embarked         2\n",
       "dtype: int64"
      ]
     },
     "execution_count": 6,
     "metadata": {},
     "output_type": "execute_result"
    }
   ],
   "source": [
    "train.isna().sum()"
   ]
  },
  {
   "cell_type": "markdown",
   "id": "d24f8d65-83e2-4c7a-bc52-d6e7cf405a24",
   "metadata": {},
   "source": [
    "3.2.1. Drop 'Cabin' column\n",
    "- It has too large portion of missing values, which is hard to imputue"
   ]
  },
  {
   "cell_type": "code",
   "execution_count": 7,
   "id": "2f0b8ee9-b2a7-410c-8152-f3cdb096c0ae",
   "metadata": {},
   "outputs": [],
   "source": [
    "train = train.drop('Cabin', axis = 1)"
   ]
  },
  {
   "cell_type": "code",
   "execution_count": 8,
   "id": "4bd0b57b-2b47-442a-b4b0-9e7058005de3",
   "metadata": {},
   "outputs": [
    {
     "data": {
      "text/plain": [
       "False"
      ]
     },
     "execution_count": 8,
     "metadata": {},
     "output_type": "execute_result"
    }
   ],
   "source": [
    "'Cabin' in train.columns"
   ]
  },
  {
   "cell_type": "markdown",
   "id": "c52796f8-20c3-439b-b6d8-ec486f2c3e32",
   "metadata": {},
   "source": [
    "3.2.2. Interpolate 'Age' column\n",
    "- The portion of missing values is manageable to be imputed\n",
    "- However, we want to keep the characteristics from the original data as similar as possible, as shown in .describe()\n",
    "- Therefore, we will use .interpolate() to impute"
   ]
  },
  {
   "cell_type": "code",
   "execution_count": 9,
   "id": "b3c20c32-ce26-498f-9e75-6de7b49d3426",
   "metadata": {},
   "outputs": [
    {
     "data": {
      "text/plain": [
       "<function matplotlib.pyplot.show(close=None, block=None)>"
      ]
     },
     "execution_count": 9,
     "metadata": {},
     "output_type": "execute_result"
    },
    {
     "data": {
      "image/png": "[encoded data removed]",
      "text/plain": [
       "<Figure size 360x360 with 1 Axes>"
      ]
     },
     "metadata": {
      "needs_background": "light"
     },
     "output_type": "display_data"
    }
   ],
   "source": [
    "sns.displot(train['Age'], kde=True)\n",
    "\n",
    "plt.title('Age Distribution')\n",
    "plt.xlabel('Age')\n",
    "plt.ylabel('Frequency')\n",
    "\n",
    "plt.show"
   ]
  },
  {
   "cell_type": "code",
   "execution_count": 10,
   "id": "894aaa6f-aae4-40de-83ab-a6e3ffa9be3f",
   "metadata": {},
   "outputs": [
    {
     "data": {
      "text/plain": [
       "count    714.000000\n",
       "mean      29.699118\n",
       "std       14.526497\n",
       "min        0.420000\n",
       "25%       20.125000\n",
       "50%       28.000000\n",
       "75%       38.000000\n",
       "max       80.000000\n",
       "Name: Age, dtype: float64"
      ]
     },
     "execution_count": 10,
     "metadata": {},
     "output_type": "execute_result"
    }
   ],
   "source": [
    "train['Age'].describe()"
   ]
  },
  {
   "cell_type": "code",
   "execution_count": 11,
   "id": "afce0d8e-3cde-4d3e-a5e6-44f5733bafe7",
   "metadata": {},
   "outputs": [],
   "source": [
    "train['Age'] = train['Age'].interpolate()"
   ]
  },
  {
   "cell_type": "code",
   "execution_count": 12,
   "id": "05d498f9-7bad-40a2-8b91-826f66145c96",
   "metadata": {},
   "outputs": [
    {
     "data": {
      "text/plain": [
       "count    891.000000\n",
       "mean      29.726061\n",
       "std       13.902353\n",
       "min        0.420000\n",
       "25%       21.000000\n",
       "50%       28.500000\n",
       "75%       38.000000\n",
       "max       80.000000\n",
       "Name: Age, dtype: float64"
      ]
     },
     "execution_count": 12,
     "metadata": {},
     "output_type": "execute_result"
    }
   ],
   "source": [
    "train['Age'].describe()"
   ]
  },
  {
   "cell_type": "markdown",
   "id": "796a3680-e518-4cfd-8f3a-8d1897ccd8c6",
   "metadata": {},
   "source": [
    "3.2.3. Imptue 'Embarked' column\n",
    "- It has only two missing values, so replace missing values with the most frequently appearing values(=mode), in this case, 'S'\n",
    "- This imputation will not influence the original dataset significantly"
   ]
  },
  {
   "cell_type": "code",
   "execution_count": 13,
   "id": "12394bfc-f6a2-43f3-8ecb-d7e4469a9a7f",
   "metadata": {},
   "outputs": [
    {
     "data": {
      "text/plain": [
       "S    644\n",
       "C    168\n",
       "Q     77\n",
       "Name: Embarked, dtype: int64"
      ]
     },
     "execution_count": 13,
     "metadata": {},
     "output_type": "execute_result"
    }
   ],
   "source": [
    "train['Embarked'].value_counts(ascending = False)"
   ]
  },
  {
   "cell_type": "code",
   "execution_count": 14,
   "id": "4d3d9fe3-e1f3-472c-ad6a-73618ce0b40b",
   "metadata": {},
   "outputs": [],
   "source": [
    "train['Embarked'].fillna('S', inplace = True)"
   ]
  },
  {
   "cell_type": "code",
   "execution_count": 15,
   "id": "93c467db-28ee-474c-9552-6275c38c81ec",
   "metadata": {},
   "outputs": [
    {
     "data": {
      "text/plain": [
       "S    646\n",
       "C    168\n",
       "Q     77\n",
       "Name: Embarked, dtype: int64"
      ]
     },
     "execution_count": 15,
     "metadata": {},
     "output_type": "execute_result"
    }
   ],
   "source": [
    "train['Embarked'].value_counts(ascending = False)"
   ]
  },
  {
   "cell_type": "markdown",
   "id": "9bbe0694-f246-4202-9f0a-0eaaad9b588b",
   "metadata": {},
   "source": [
    "4. Feature Engineering: Drop unnecessary columns \n",
    "- We will drop the columns with text data, assuming that they have no predicting power"
   ]
  },
  {
   "cell_type": "code",
   "execution_count": 16,
   "id": "87d08a7f-f20e-4d8d-ab79-bd27d8aff7d8",
   "metadata": {},
   "outputs": [],
   "source": [
    "train = train.drop(['PassengerId', 'Name', 'Ticket'], axis=1)"
   ]
  },
  {
   "cell_type": "code",
   "execution_count": 17,
   "id": "8d462392-ee6a-4951-9395-ddbc634e7885",
   "metadata": {},
   "outputs": [
    {
     "data": {
      "text/plain": [
       "Index(['Survived', 'Pclass', 'Sex', 'Age', 'SibSp', 'Parch', 'Fare',\n",
       "       'Embarked'],\n",
       "      dtype='object')"
      ]
     },
     "execution_count": 17,
     "metadata": {},
     "output_type": "execute_result"
    }
   ],
   "source": [
    "train.columns"
   ]
  },
  {
   "cell_type": "markdown",
   "id": "955f760d-4c97-4edd-aa59-a4885c927764",
   "metadata": {},
   "source": [
    "5. Feature Enginnering: one hot encoding\n",
    "- categorical variable: Sex, Pclass, Embarked \n",
    "- Transform the categorical variables in the dataset through one hot encoding\n",
    "- Using get_dummies(), now, there are values either 0 or 1 in the categorical variables "
   ]
  },
  {
   "cell_type": "code",
   "execution_count": 18,
   "id": "1658ae8f-fbb7-4d86-9c13-1dd571cd5d47",
   "metadata": {},
   "outputs": [],
   "source": [
    "train = pd.get_dummies(train, columns = ['Pclass', 'Embarked'])"
   ]
  },
  {
   "cell_type": "code",
   "execution_count": 19,
   "id": "94d89ff9-fadf-403f-b981-8a877e7f306d",
   "metadata": {},
   "outputs": [
    {
     "data": {
      "text/plain": [
       "male      577\n",
       "female    314\n",
       "Name: Sex, dtype: int64"
      ]
     },
     "execution_count": 19,
     "metadata": {},
     "output_type": "execute_result"
    }
   ],
   "source": [
    "train['Sex'].value_counts(ascending = False)"
   ]
  },
  {
   "cell_type": "code",
   "execution_count": 20,
   "id": "e8b2bf55-8d72-4000-b830-5290ba6be502",
   "metadata": {},
   "outputs": [],
   "source": [
    "train['Sex'] = np.where(train['Sex'] == 'male', 0, 1)"
   ]
  },
  {
   "cell_type": "code",
   "execution_count": 21,
   "id": "db0e7cb7-fb9d-4ce6-a797-8fe653f6dadf",
   "metadata": {},
   "outputs": [],
   "source": [
    "train.rename(columns = {'Sex':'Is_female'}, inplace = True)"
   ]
  },
  {
   "cell_type": "code",
   "execution_count": 22,
   "id": "d63b2505-58fc-4a01-bb77-9698bfaa107d",
   "metadata": {},
   "outputs": [
    {
     "data": {
      "text/html": [
       "<div>\n",
       "<style scoped>\n",
       "    .dataframe tbody tr th:only-of-type {\n",
       "        vertical-align: middle;\n",
       "    }\n",
       "\n",
       "    .dataframe tbody tr th {\n",
       "        vertical-align: top;\n",
       "    }\n",
       "\n",
       "    .dataframe thead th {\n",
       "        text-align: right;\n",
       "    }\n",
       "</style>\n",
       "<table border=\"1\" class=\"dataframe\">\n",
       "  <thead>\n",
       "    <tr style=\"text-align: right;\">\n",
       "      <th></th>\n",
       "      <th>Survived</th>\n",
       "      <th>Is_female</th>\n",
       "      <th>Age</th>\n",
       "      <th>SibSp</th>\n",
       "      <th>Parch</th>\n",
       "      <th>Fare</th>\n",
       "      <th>Pclass_1</th>\n",
       "      <th>Pclass_2</th>\n",
       "      <th>Pclass_3</th>\n",
       "      <th>Embarked_C</th>\n",
       "      <th>Embarked_Q</th>\n",
       "      <th>Embarked_S</th>\n",
       "    </tr>\n",
       "  </thead>\n",
       "  <tbody>\n",
       "    <tr>\n",
       "      <th>0</th>\n",
       "      <td>0</td>\n",
       "      <td>0</td>\n",
       "      <td>22.0</td>\n",
       "      <td>1</td>\n",
       "      <td>0</td>\n",
       "      <td>7.2500</td>\n",
       "      <td>0</td>\n",
       "      <td>0</td>\n",
       "      <td>1</td>\n",
       "      <td>0</td>\n",
       "      <td>0</td>\n",
       "      <td>1</td>\n",
       "    </tr>\n",
       "    <tr>\n",
       "      <th>1</th>\n",
       "      <td>1</td>\n",
       "      <td>1</td>\n",
       "      <td>38.0</td>\n",
       "      <td>1</td>\n",
       "      <td>0</td>\n",
       "      <td>71.2833</td>\n",
       "      <td>1</td>\n",
       "      <td>0</td>\n",
       "      <td>0</td>\n",
       "      <td>1</td>\n",
       "      <td>0</td>\n",
       "      <td>0</td>\n",
       "    </tr>\n",
       "    <tr>\n",
       "      <th>2</th>\n",
       "      <td>1</td>\n",
       "      <td>1</td>\n",
       "      <td>26.0</td>\n",
       "      <td>0</td>\n",
       "      <td>0</td>\n",
       "      <td>7.9250</td>\n",
       "      <td>0</td>\n",
       "      <td>0</td>\n",
       "      <td>1</td>\n",
       "      <td>0</td>\n",
       "      <td>0</td>\n",
       "      <td>1</td>\n",
       "    </tr>\n",
       "    <tr>\n",
       "      <th>3</th>\n",
       "      <td>1</td>\n",
       "      <td>1</td>\n",
       "      <td>35.0</td>\n",
       "      <td>1</td>\n",
       "      <td>0</td>\n",
       "      <td>53.1000</td>\n",
       "      <td>1</td>\n",
       "      <td>0</td>\n",
       "      <td>0</td>\n",
       "      <td>0</td>\n",
       "      <td>0</td>\n",
       "      <td>1</td>\n",
       "    </tr>\n",
       "    <tr>\n",
       "      <th>4</th>\n",
       "      <td>0</td>\n",
       "      <td>0</td>\n",
       "      <td>35.0</td>\n",
       "      <td>0</td>\n",
       "      <td>0</td>\n",
       "      <td>8.0500</td>\n",
       "      <td>0</td>\n",
       "      <td>0</td>\n",
       "      <td>1</td>\n",
       "      <td>0</td>\n",
       "      <td>0</td>\n",
       "      <td>1</td>\n",
       "    </tr>\n",
       "  </tbody>\n",
       "</table>\n",
       "</div>"
      ],
      "text/plain": [
       "   Survived  Is_female   Age  SibSp  Parch     Fare  Pclass_1  Pclass_2  \\\n",
       "0         0          0  22.0      1      0   7.2500         0         0   \n",
       "1         1          1  38.0      1      0  71.2833         1         0   \n",
       "2         1          1  26.0      0      0   7.9250         0         0   \n",
       "3         1          1  35.0      1      0  53.1000         1         0   \n",
       "4         0          0  35.0      0      0   8.0500         0         0   \n",
       "\n",
       "   Pclass_3  Embarked_C  Embarked_Q  Embarked_S  \n",
       "0         1           0           0           1  \n",
       "1         0           1           0           0  \n",
       "2         1           0           0           1  \n",
       "3         0           0           0           1  \n",
       "4         1           0           0           1  "
      ]
     },
     "execution_count": 22,
     "metadata": {},
     "output_type": "execute_result"
    }
   ],
   "source": [
    "train.head()"
   ]
  },
  {
   "cell_type": "markdown",
   "id": "8fe93798-5861-4e6a-9d0b-828d44f3f584",
   "metadata": {},
   "source": [
    "5.1. Feature Enginnering: create a new variable, feature: 'Family'\n",
    "\n",
    "- Sib = Sibilings, Sp = Spouse \n",
    "- Parch = # of parents / children aboard the Titanic\n",
    "- Therfore, we create a new variable as 'Family' by combining these two variables and will drop them to remove duplictiy with the newly created variable"
   ]
  },
  {
   "cell_type": "code",
   "execution_count": 23,
   "id": "edcefdd6-3500-467c-8c68-67d05a122afe",
   "metadata": {},
   "outputs": [],
   "source": [
    "train['Family'] = train['SibSp'] + train['Parch']"
   ]
  },
  {
   "cell_type": "code",
   "execution_count": 24,
   "id": "154b1f0e-fe26-4cf7-bee2-925470a5c673",
   "metadata": {},
   "outputs": [],
   "source": [
    "train = train.drop(['SibSp', 'Parch'], axis = 1)"
   ]
  },
  {
   "cell_type": "markdown",
   "id": "6025c182-605b-4a2a-9cde-1883bdb99291",
   "metadata": {},
   "source": [
    "5.1. Feature Enginnering: create a new variable, feature: 'is_alone'\n",
    "- The majority of passengers aboarded alone.\n",
    "- To see whetehr it was a critical factor for survival, we will newly create 'is_alone' variable "
   ]
  },
  {
   "cell_type": "code",
   "execution_count": 25,
   "id": "9ae4c98d-9295-4a8c-a84d-2df9b77ccde5",
   "metadata": {},
   "outputs": [
    {
     "data": {
      "text/plain": [
       "0     60.269360\n",
       "1     18.069585\n",
       "2     11.447811\n",
       "3      3.254770\n",
       "5      2.469136\n",
       "4      1.683502\n",
       "6      1.346801\n",
       "10     0.785634\n",
       "7      0.673401\n",
       "Name: Family, dtype: float64"
      ]
     },
     "execution_count": 25,
     "metadata": {},
     "output_type": "execute_result"
    }
   ],
   "source": [
    "train['Family'].value_counts(normalize = True)*100"
   ]
  },
  {
   "cell_type": "code",
   "execution_count": 26,
   "id": "2d99e856-ed92-4a7d-9c7b-3479eb8bf58b",
   "metadata": {},
   "outputs": [],
   "source": [
    "train['Is_alone'] = np.where(train['Family']==0, 1, 0)"
   ]
  },
  {
   "cell_type": "code",
   "execution_count": 27,
   "id": "b34a97d8-94bd-4c0f-845a-401d11555685",
   "metadata": {},
   "outputs": [
    {
     "data": {
      "text/plain": [
       "1    537\n",
       "0    354\n",
       "Name: Is_alone, dtype: int64"
      ]
     },
     "execution_count": 27,
     "metadata": {},
     "output_type": "execute_result"
    }
   ],
   "source": [
    "train['Is_alone'].value_counts(ascending = False)"
   ]
  },
  {
   "cell_type": "markdown",
   "id": "931fce18-ecf3-4b25-824c-10288bd31ba0",
   "metadata": {},
   "source": [
    "5.1. Feature Enginnering: create a new variable, feature: 'is_child'\n",
    "- The majority of passengers (75%) were adults with age more than 21\n",
    "- To see not being an adult is a critical factor for survival, we will newly create a variable 'is_child'\n",
    "- The threshold is age 15 and around 10% of the passengers were child"
   ]
  },
  {
   "cell_type": "code",
   "execution_count": 28,
   "id": "0e660b0d-9942-4f1e-b693-ff80d99d4542",
   "metadata": {},
   "outputs": [
    {
     "data": {
      "text/plain": [
       "count    891.000000\n",
       "mean      29.726061\n",
       "std       13.902353\n",
       "min        0.420000\n",
       "25%       21.000000\n",
       "50%       28.500000\n",
       "75%       38.000000\n",
       "max       80.000000\n",
       "Name: Age, dtype: float64"
      ]
     },
     "execution_count": 28,
     "metadata": {},
     "output_type": "execute_result"
    }
   ],
   "source": [
    "train['Age'].describe()"
   ]
  },
  {
   "cell_type": "code",
   "execution_count": 29,
   "id": "aaa9a4f0-0948-42a2-b90e-9854bc2b3df6",
   "metadata": {},
   "outputs": [],
   "source": [
    "train['Is_child'] = np.where(train['Age'] >= 15, 1, 0)"
   ]
  },
  {
   "cell_type": "code",
   "execution_count": 30,
   "id": "ef8fe9fc-76ab-4892-b5e2-119cde06bbb8",
   "metadata": {},
   "outputs": [
    {
     "data": {
      "text/plain": [
       "1    89.786756\n",
       "0    10.213244\n",
       "Name: Is_child, dtype: float64"
      ]
     },
     "execution_count": 30,
     "metadata": {},
     "output_type": "execute_result"
    }
   ],
   "source": [
    "train['Is_child'].value_counts(normalize = True)*100"
   ]
  },
  {
   "cell_type": "markdown",
   "id": "7096a4dd-d090-44df-844b-d0ea919d02f7",
   "metadata": {},
   "source": [
    "6. Start EDA with the cleansed Titanic train dataset"
   ]
  },
  {
   "cell_type": "code",
   "execution_count": 31,
   "id": "3d5c93c6-b5a4-4ad7-8653-0325c7031e40",
   "metadata": {},
   "outputs": [
    {
     "data": {
      "text/plain": [
       "Index(['Survived', 'Is_female', 'Age', 'Fare', 'Pclass_1', 'Pclass_2',\n",
       "       'Pclass_3', 'Embarked_C', 'Embarked_Q', 'Embarked_S', 'Family',\n",
       "       'Is_alone', 'Is_child'],\n",
       "      dtype='object')"
      ]
     },
     "execution_count": 31,
     "metadata": {},
     "output_type": "execute_result"
    }
   ],
   "source": [
    "train.columns"
   ]
  },
  {
   "cell_type": "markdown",
   "id": "b1561b32-a995-4df1-bbba-c78ca1402b83",
   "metadata": {},
   "source": [
    "6.1. Survival \n",
    "- only 38% of the total passenger of Titanic in our train data set survived"
   ]
  },
  {
   "cell_type": "code",
   "execution_count": 32,
   "id": "39a4f3ef-f5b8-4098-9184-fd51c7b1f98c",
   "metadata": {},
   "outputs": [
    {
     "name": "stderr",
     "output_type": "stream",
     "text": [
      "/Users/misunsong/opt/anaconda3/lib/python3.9/site-packages/seaborn/_decorators.py:36: FutureWarning: Pass the following variable as a keyword arg: x. From version 0.12, the only valid positional argument will be `data`, and passing other arguments without an explicit keyword will result in an error or misinterpretation.\n",
      "  warnings.warn(\n"
     ]
    },
    {
     "data": {
      "image/png": "[encoded data removed]",
      "text/plain": [
       "<Figure size 432x288 with 1 Axes>"
      ]
     },
     "metadata": {
      "needs_background": "light"
     },
     "output_type": "display_data"
    }
   ],
   "source": [
    "sns.countplot(train['Survived'])\n",
    "\n",
    "plt.title(\"Survival Count\")\n",
    "plt.xlabel(\"Survived (0 = No, 1 = Yes)\")\n",
    "plt.ylabel(\"Count\")\n",
    "\n",
    "plt.show()"
   ]
  },
  {
   "cell_type": "code",
   "execution_count": 33,
   "id": "7b842edf-cba5-4a04-907b-c571d2f7229b",
   "metadata": {},
   "outputs": [
    {
     "data": {
      "text/plain": [
       "0    61.616162\n",
       "1    38.383838\n",
       "Name: Survived, dtype: float64"
      ]
     },
     "execution_count": 33,
     "metadata": {},
     "output_type": "execute_result"
    }
   ],
   "source": [
    "train['Survived'].value_counts(normalize = True)*100"
   ]
  },
  {
   "cell_type": "markdown",
   "id": "8a07c172-9920-4fac-807a-5fd7b24f56c7",
   "metadata": {},
   "source": [
    "6.2. Sex and Survival\n",
    "- Female passengers died less(81) and survived more(233) significantly compared to male passengers"
   ]
  },
  {
   "cell_type": "code",
   "execution_count": 34,
   "id": "f8b1e093-53e2-42fa-9e53-b72b667226cd",
   "metadata": {},
   "outputs": [
    {
     "data": {
      "text/html": [
       "<div>\n",
       "<style scoped>\n",
       "    .dataframe tbody tr th:only-of-type {\n",
       "        vertical-align: middle;\n",
       "    }\n",
       "\n",
       "    .dataframe tbody tr th {\n",
       "        vertical-align: top;\n",
       "    }\n",
       "\n",
       "    .dataframe thead th {\n",
       "        text-align: right;\n",
       "    }\n",
       "</style>\n",
       "<table border=\"1\" class=\"dataframe\">\n",
       "  <thead>\n",
       "    <tr style=\"text-align: right;\">\n",
       "      <th></th>\n",
       "      <th></th>\n",
       "      <th>n</th>\n",
       "    </tr>\n",
       "    <tr>\n",
       "      <th>Is_female</th>\n",
       "      <th>Survived</th>\n",
       "      <th></th>\n",
       "    </tr>\n",
       "  </thead>\n",
       "  <tbody>\n",
       "    <tr>\n",
       "      <th rowspan=\"2\" valign=\"top\">0</th>\n",
       "      <th>0</th>\n",
       "      <td>468</td>\n",
       "    </tr>\n",
       "    <tr>\n",
       "      <th>1</th>\n",
       "      <td>109</td>\n",
       "    </tr>\n",
       "    <tr>\n",
       "      <th rowspan=\"2\" valign=\"top\">1</th>\n",
       "      <th>0</th>\n",
       "      <td>81</td>\n",
       "    </tr>\n",
       "    <tr>\n",
       "      <th>1</th>\n",
       "      <td>233</td>\n",
       "    </tr>\n",
       "  </tbody>\n",
       "</table>\n",
       "</div>"
      ],
      "text/plain": [
       "                      n\n",
       "Is_female Survived     \n",
       "0         0         468\n",
       "          1         109\n",
       "1         0          81\n",
       "          1         233"
      ]
     },
     "execution_count": 34,
     "metadata": {},
     "output_type": "execute_result"
    }
   ],
   "source": [
    "sex = train.groupby(['Is_female', 'Survived']).agg(n = ('Survived', 'count'))\n",
    "sex"
   ]
  },
  {
   "cell_type": "code",
   "execution_count": 35,
   "id": "c42d3282-2b57-4cdc-97b0-b1036d2c4b0e",
   "metadata": {},
   "outputs": [
    {
     "data": {
      "image/png": "[encoded data removed]",
      "text/plain": [
       "<Figure size 432x288 with 1 Axes>"
      ]
     },
     "metadata": {
      "needs_background": "light"
     },
     "output_type": "display_data"
    }
   ],
   "source": [
    "sns.barplot(x = 'Survived', y = 'n', hue = 'Is_female',\n",
    "            data = sex.reset_index())\n",
    "    \n",
    "plt.title('Survival by Sex')\n",
    "plt.xlabel('Survival (0 = Died, 1 = Survived)')\n",
    "plt.ylabel('Counts')\n",
    "\n",
    "plt.show()"
   ]
  },
  {
   "cell_type": "markdown",
   "id": "44d146af-7874-4f56-8250-32032491b8e0",
   "metadata": {},
   "source": [
    "6.3. Pc_Class and Survival\n",
    "- The passengers categorized in a higher Pclass(1) survived more than died.\n",
    "- Pclass(2) has similar number of passengers who died and survived.\n",
    "- However, Pclass(3) died more than survied."
   ]
  },
  {
   "cell_type": "code",
   "execution_count": 36,
   "id": "ba120860-792c-482c-9192-c0f83f138538",
   "metadata": {},
   "outputs": [],
   "source": [
    "pclass = train[['Pclass_1', 'Pclass_2', 'Pclass_3', 'Survived']]"
   ]
  },
  {
   "cell_type": "code",
   "execution_count": 37,
   "id": "9af4fe18-d2fc-4d4e-8fdf-516cbcdc25e8",
   "metadata": {},
   "outputs": [],
   "source": [
    "pivot_pclass = pclass.pivot_table(index = 'Survived',\n",
    "                                     values=['Pclass_1', 'Pclass_2', 'Pclass_3', 'Survived'],\n",
    "                                     aggfunc = 'sum')"
   ]
  },
  {
   "cell_type": "code",
   "execution_count": 38,
   "id": "451b78be-e7f4-4d74-941c-ff46de577ca6",
   "metadata": {},
   "outputs": [
    {
     "data": {
      "text/html": [
       "<div>\n",
       "<style scoped>\n",
       "    .dataframe tbody tr th:only-of-type {\n",
       "        vertical-align: middle;\n",
       "    }\n",
       "\n",
       "    .dataframe tbody tr th {\n",
       "        vertical-align: top;\n",
       "    }\n",
       "\n",
       "    .dataframe thead th {\n",
       "        text-align: right;\n",
       "    }\n",
       "</style>\n",
       "<table border=\"1\" class=\"dataframe\">\n",
       "  <thead>\n",
       "    <tr style=\"text-align: right;\">\n",
       "      <th></th>\n",
       "      <th>Pclass_1</th>\n",
       "      <th>Pclass_2</th>\n",
       "      <th>Pclass_3</th>\n",
       "    </tr>\n",
       "    <tr>\n",
       "      <th>Survived</th>\n",
       "      <th></th>\n",
       "      <th></th>\n",
       "      <th></th>\n",
       "    </tr>\n",
       "  </thead>\n",
       "  <tbody>\n",
       "    <tr>\n",
       "      <th>0</th>\n",
       "      <td>80</td>\n",
       "      <td>97</td>\n",
       "      <td>372.0</td>\n",
       "    </tr>\n",
       "    <tr>\n",
       "      <th>1</th>\n",
       "      <td>136</td>\n",
       "      <td>87</td>\n",
       "      <td>119.0</td>\n",
       "    </tr>\n",
       "  </tbody>\n",
       "</table>\n",
       "</div>"
      ],
      "text/plain": [
       "          Pclass_1  Pclass_2  Pclass_3\n",
       "Survived                              \n",
       "0               80        97     372.0\n",
       "1              136        87     119.0"
      ]
     },
     "execution_count": 38,
     "metadata": {},
     "output_type": "execute_result"
    }
   ],
   "source": [
    "pivot_pclass"
   ]
  },
  {
   "cell_type": "code",
   "execution_count": 39,
   "id": "abf6a26d-cc4f-4352-977d-e046e12634ae",
   "metadata": {},
   "outputs": [
    {
     "data": {
      "image/png": "[encoded data removed]",
      "text/plain": [
       "<Figure size 432x288 with 1 Axes>"
      ]
     },
     "metadata": {
      "needs_background": "light"
     },
     "output_type": "display_data"
    }
   ],
   "source": [
    "pivot_pclass.plot(kind = 'bar', stacked = True)\n",
    "\n",
    "plt.title('Survival by P_class')\n",
    "plt.xlabel('Survival')\n",
    "plt.ylabel('Count')\n",
    "\n",
    "plt.show()"
   ]
  },
  {
   "cell_type": "markdown",
   "id": "a3ce9062-674a-4faa-aa89-b41e1bc4568c",
   "metadata": {},
   "source": [
    "6.4. Emarked on Survival\n",
    "- Port of Embarkation (C = Cherbourg, Q = Queenstown, S = Southampton)\n",
    "- It seems irrelvant to survival, except embarkation at Southampton. People died more when they embarked at Southampton"
   ]
  },
  {
   "cell_type": "code",
   "execution_count": 40,
   "id": "f29acd73-7dd3-4982-a37d-e0006c087a76",
   "metadata": {},
   "outputs": [
    {
     "data": {
      "text/html": [
       "<div>\n",
       "<style scoped>\n",
       "    .dataframe tbody tr th:only-of-type {\n",
       "        vertical-align: middle;\n",
       "    }\n",
       "\n",
       "    .dataframe tbody tr th {\n",
       "        vertical-align: top;\n",
       "    }\n",
       "\n",
       "    .dataframe thead th {\n",
       "        text-align: right;\n",
       "    }\n",
       "</style>\n",
       "<table border=\"1\" class=\"dataframe\">\n",
       "  <thead>\n",
       "    <tr style=\"text-align: right;\">\n",
       "      <th></th>\n",
       "      <th>Embarked_C</th>\n",
       "      <th>Embarked_Q</th>\n",
       "      <th>Embarked_S</th>\n",
       "    </tr>\n",
       "    <tr>\n",
       "      <th>Survived</th>\n",
       "      <th></th>\n",
       "      <th></th>\n",
       "      <th></th>\n",
       "    </tr>\n",
       "  </thead>\n",
       "  <tbody>\n",
       "    <tr>\n",
       "      <th>0</th>\n",
       "      <td>75</td>\n",
       "      <td>47</td>\n",
       "      <td>427.0</td>\n",
       "    </tr>\n",
       "    <tr>\n",
       "      <th>1</th>\n",
       "      <td>93</td>\n",
       "      <td>30</td>\n",
       "      <td>219.0</td>\n",
       "    </tr>\n",
       "  </tbody>\n",
       "</table>\n",
       "</div>"
      ],
      "text/plain": [
       "          Embarked_C  Embarked_Q  Embarked_S\n",
       "Survived                                    \n",
       "0                 75          47       427.0\n",
       "1                 93          30       219.0"
      ]
     },
     "execution_count": 40,
     "metadata": {},
     "output_type": "execute_result"
    }
   ],
   "source": [
    "embarked = train[['Embarked_C', 'Embarked_Q', 'Embarked_S', 'Survived']]\n",
    "pivot_embarked = embarked.pivot_table(index = 'Survived',\n",
    "                                     values=['Embarked_C', 'Embarked_Q', 'Embarked_S', 'Survived'],\n",
    "                                     aggfunc = 'sum')\n",
    "pivot_embarked"
   ]
  },
  {
   "cell_type": "code",
   "execution_count": 41,
   "id": "c7b6bbf0-1b48-462d-86cc-3c319f0100d5",
   "metadata": {},
   "outputs": [
    {
     "data": {
      "image/png": "[encoded data removed]",
      "text/plain": [
       "<Figure size 432x288 with 1 Axes>"
      ]
     },
     "metadata": {
      "needs_background": "light"
     },
     "output_type": "display_data"
    }
   ],
   "source": [
    "pivot_embarked.plot(kind = 'bar', stacked = True)\n",
    "\n",
    "plt.title('Survival by Embarked')\n",
    "plt.xlabel('Survival')\n",
    "plt.ylabel('Count')\n",
    "\n",
    "plt.show()"
   ]
  },
  {
   "cell_type": "markdown",
   "id": "8eaf38ce-ee59-47c5-9cb0-f64be71a3940",
   "metadata": {},
   "source": [
    "6.5. Being Alone on Survival\n",
    "- If one passenger aboarded alone, it was more likely to die than survive"
   ]
  },
  {
   "cell_type": "code",
   "execution_count": 42,
   "id": "589dd9bb-408c-4d79-9e3e-bd36d449d8ae",
   "metadata": {},
   "outputs": [
    {
     "data": {
      "text/html": [
       "<div>\n",
       "<style scoped>\n",
       "    .dataframe tbody tr th:only-of-type {\n",
       "        vertical-align: middle;\n",
       "    }\n",
       "\n",
       "    .dataframe tbody tr th {\n",
       "        vertical-align: top;\n",
       "    }\n",
       "\n",
       "    .dataframe thead th {\n",
       "        text-align: right;\n",
       "    }\n",
       "</style>\n",
       "<table border=\"1\" class=\"dataframe\">\n",
       "  <thead>\n",
       "    <tr style=\"text-align: right;\">\n",
       "      <th></th>\n",
       "      <th></th>\n",
       "      <th>n</th>\n",
       "    </tr>\n",
       "    <tr>\n",
       "      <th>Is_alone</th>\n",
       "      <th>Survived</th>\n",
       "      <th></th>\n",
       "    </tr>\n",
       "  </thead>\n",
       "  <tbody>\n",
       "    <tr>\n",
       "      <th rowspan=\"2\" valign=\"top\">0</th>\n",
       "      <th>0</th>\n",
       "      <td>175</td>\n",
       "    </tr>\n",
       "    <tr>\n",
       "      <th>1</th>\n",
       "      <td>179</td>\n",
       "    </tr>\n",
       "    <tr>\n",
       "      <th rowspan=\"2\" valign=\"top\">1</th>\n",
       "      <th>0</th>\n",
       "      <td>374</td>\n",
       "    </tr>\n",
       "    <tr>\n",
       "      <th>1</th>\n",
       "      <td>163</td>\n",
       "    </tr>\n",
       "  </tbody>\n",
       "</table>\n",
       "</div>"
      ],
      "text/plain": [
       "                     n\n",
       "Is_alone Survived     \n",
       "0        0         175\n",
       "         1         179\n",
       "1        0         374\n",
       "         1         163"
      ]
     },
     "execution_count": 42,
     "metadata": {},
     "output_type": "execute_result"
    }
   ],
   "source": [
    "is_alone = train.groupby(['Is_alone', 'Survived']).agg(n = ('Survived', 'count'))\n",
    "is_alone"
   ]
  },
  {
   "cell_type": "code",
   "execution_count": 43,
   "id": "1a6d47b3-79ce-4a70-8a7a-992b65452e2e",
   "metadata": {},
   "outputs": [
    {
     "data": {
      "image/png": "[encoded data removed]",
      "text/plain": [
       "<Figure size 408.625x360 with 1 Axes>"
      ]
     },
     "metadata": {
      "needs_background": "light"
     },
     "output_type": "display_data"
    }
   ],
   "source": [
    "sns.catplot(x = 'Survived', y = 'n', hue = 'Is_alone',\n",
    "           kind = 'bar', data = is_alone.reset_index())\n",
    "\n",
    "plt.title('Survival by Companies')\n",
    "plt.xlabel('Survival (0 = Died, 1 = Survived)')\n",
    "plt.ylabel('Count')\n",
    "\n",
    "plt.show()"
   ]
  },
  {
   "cell_type": "markdown",
   "id": "1b087db6-e820-45d5-9c09-eb2581587d4c",
   "metadata": {},
   "source": [
    "6.6. Check Cross-relationship betwwen features\n",
    "- The most critical features for survival from the previous EDA turned out 'Is_female' and 'Pclass(1, 2 or 3)'\n",
    "- Therefore, we create a crosstab using these two features and see their relationshop with survival\n",
    "- The plot indicates that the female passenger of Titanic in  Pclass 1 were significantly more likely to survive, compared to the male passneger, and espeically male passenter in Plcass 3."
   ]
  },
  {
   "cell_type": "code",
   "execution_count": 44,
   "id": "b2ec5341-284f-4e04-9a91-48359f5dc965",
   "metadata": {},
   "outputs": [],
   "source": [
    "train_add = pd.read_csv('train.csv')"
   ]
  },
  {
   "cell_type": "code",
   "execution_count": 45,
   "id": "cc9a90bc-5dd8-4207-bc80-fa76e6c8a905",
   "metadata": {},
   "outputs": [
    {
     "data": {
      "text/html": [
       "<div>\n",
       "<style scoped>\n",
       "    .dataframe tbody tr th:only-of-type {\n",
       "        vertical-align: middle;\n",
       "    }\n",
       "\n",
       "    .dataframe tbody tr th {\n",
       "        vertical-align: top;\n",
       "    }\n",
       "\n",
       "    .dataframe thead th {\n",
       "        text-align: right;\n",
       "    }\n",
       "</style>\n",
       "<table border=\"1\" class=\"dataframe\">\n",
       "  <thead>\n",
       "    <tr style=\"text-align: right;\">\n",
       "      <th></th>\n",
       "      <th>Pclass</th>\n",
       "      <th>1</th>\n",
       "      <th>2</th>\n",
       "      <th>3</th>\n",
       "      <th>All</th>\n",
       "    </tr>\n",
       "    <tr>\n",
       "      <th>Sex</th>\n",
       "      <th>Survived</th>\n",
       "      <th></th>\n",
       "      <th></th>\n",
       "      <th></th>\n",
       "      <th></th>\n",
       "    </tr>\n",
       "  </thead>\n",
       "  <tbody>\n",
       "    <tr>\n",
       "      <th rowspan=\"2\" valign=\"top\">female</th>\n",
       "      <th>0</th>\n",
       "      <td>3</td>\n",
       "      <td>6</td>\n",
       "      <td>72</td>\n",
       "      <td>81</td>\n",
       "    </tr>\n",
       "    <tr>\n",
       "      <th>1</th>\n",
       "      <td>91</td>\n",
       "      <td>70</td>\n",
       "      <td>72</td>\n",
       "      <td>233</td>\n",
       "    </tr>\n",
       "    <tr>\n",
       "      <th rowspan=\"2\" valign=\"top\">male</th>\n",
       "      <th>0</th>\n",
       "      <td>77</td>\n",
       "      <td>91</td>\n",
       "      <td>300</td>\n",
       "      <td>468</td>\n",
       "    </tr>\n",
       "    <tr>\n",
       "      <th>1</th>\n",
       "      <td>45</td>\n",
       "      <td>17</td>\n",
       "      <td>47</td>\n",
       "      <td>109</td>\n",
       "    </tr>\n",
       "    <tr>\n",
       "      <th>All</th>\n",
       "      <th></th>\n",
       "      <td>216</td>\n",
       "      <td>184</td>\n",
       "      <td>491</td>\n",
       "      <td>891</td>\n",
       "    </tr>\n",
       "  </tbody>\n",
       "</table>\n",
       "</div>"
      ],
      "text/plain": [
       "Pclass             1    2    3  All\n",
       "Sex    Survived                    \n",
       "female 0           3    6   72   81\n",
       "       1          91   70   72  233\n",
       "male   0          77   91  300  468\n",
       "       1          45   17   47  109\n",
       "All              216  184  491  891"
      ]
     },
     "execution_count": 45,
     "metadata": {},
     "output_type": "execute_result"
    }
   ],
   "source": [
    "pd.crosstab([train_add.Sex, train_add.Survived], train_add.Pclass, margins=True)\n",
    "# https://www.kaggle.com/code/melodyyiphoiching/titanic-survival-prediction-ml"
   ]
  },
  {
   "cell_type": "code",
   "execution_count": 46,
   "id": "a6ac4d4d-65df-4df2-8504-be582e49fe28",
   "metadata": {},
   "outputs": [
    {
     "data": {
      "image/png": "[encoded data removed]",
      "text/plain": [
       "<Figure size 430.5x360 with 1 Axes>"
      ]
     },
     "metadata": {
      "needs_background": "light"
     },
     "output_type": "display_data"
    }
   ],
   "source": [
    "import warnings\n",
    "warnings.filterwarnings(\"ignore\")\n",
    "\n",
    "sns.factorplot('Pclass','Survived',hue='Sex',data=train_add, palette='Set2')\n",
    "plt.show()"
   ]
  },
  {
   "cell_type": "markdown",
   "id": "9653fe95-6cdd-4299-8d36-d448a33a2a06",
   "metadata": {},
   "source": [
    "- The heatmap shows similar aspects\n",
    "- Gender: Female, Pclass: 1, Fare(related to Pcalss1) have relatively strong relationship with survival(1) from Titanic tragedy"
   ]
  },
  {
   "cell_type": "code",
   "execution_count": 47,
   "id": "fba23173-273b-4a57-a2d7-bf798e050007",
   "metadata": {},
   "outputs": [
    {
     "data": {
      "text/plain": [
       "Text(0.5, 1.0, 'Features Correlating with Survived')"
      ]
     },
     "execution_count": 47,
     "metadata": {},
     "output_type": "execute_result"
    },
    {
     "data": {
      "image/png": "[encoded data removed]",
      "text/plain": [
       "<Figure size 432x288 with 2 Axes>"
      ]
     },
     "metadata": {
      "needs_background": "light"
     },
     "output_type": "display_data"
    }
   ],
   "source": [
    "heatmap = sns.heatmap(train.corr()[['Survived']].sort_values(by='Survived', ascending=False), vmin=-1, vmax=1, annot=True, cmap='BrBG')\n",
    "heatmap.set_title('Features Correlating with Survived', fontdict={'fontsize':18}, pad=16)\n",
    "\n",
    "# https://medium.com/@melodyyip515_/titanic-survival-prediction-using-machine-learning-89a779656113"
   ]
  },
  {
   "cell_type": "code",
   "execution_count": 48,
   "id": "105115ab-a0e0-4241-ae78-7d64cf070ef6",
   "metadata": {},
   "outputs": [
    {
     "data": {
      "image/png": "[encoded data removed]",
      "text/plain": [
       "<Figure size 720x576 with 2 Axes>"
      ]
     },
     "metadata": {
      "needs_background": "light"
     },
     "output_type": "display_data"
    }
   ],
   "source": [
    "corr = train.corr()\n",
    "\n",
    "plt.figure(figsize=(10, 8))\n",
    "\n",
    "sns.heatmap(corr, cmap='coolwarm', annot=True, fmt='.2f', annot_kws={'size': 8})\n",
    "\n",
    "plt.title(\"Correlation Matrix\")\n",
    "plt.show()"
   ]
  },
  {
   "cell_type": "markdown",
   "id": "116ffe58-dc90-483c-8704-311e189627c9",
   "metadata": {},
   "source": [
    "### Step 2:\n",
    "Build your models: Please build classification models in Python to predict the Survived binary status assigned to a passenger. When writing the code associated with each model, please have the first part produce and save the model, followed by a second part that loads and applies the model."
   ]
  },
  {
   "cell_type": "code",
   "execution_count": 49,
   "id": "a71438cd-b54a-4f03-8d6b-9df9a6aae299",
   "metadata": {},
   "outputs": [],
   "source": [
    "from sklearn.preprocessing import StandardScaler\n",
    "from sklearn.model_selection import train_test_split\n",
    "from sklearn.model_selection import cross_val_score\n",
    "from sklearn.linear_model import LogisticRegression\n",
    "from sklearn.svm import SVC, LinearSVC\n",
    "from sklearn.neighbors import KNeighborsClassifier\n",
    "from sklearn.tree import DecisionTreeClassifier\n",
    "from sklearn.ensemble import RandomForestClassifier\n",
    "from sklearn.naive_bayes import GaussianNB\n",
    "from sklearn.linear_model import Perceptron\n",
    "from sklearn.linear_model import SGDClassifier"
   ]
  },
  {
   "cell_type": "code",
   "execution_count": 50,
   "id": "9d54ccdf-9603-4e91-9af5-a55f4be4c1c3",
   "metadata": {},
   "outputs": [],
   "source": [
    "X = train.drop('Survived', axis = 1).copy()\n",
    "y = train['Survived'].copy()"
   ]
  },
  {
   "cell_type": "code",
   "execution_count": 51,
   "id": "9f839180-fa75-4b96-8870-43d2e2c56b12",
   "metadata": {},
   "outputs": [],
   "source": [
    "# split the data into training and testing sets\n",
    "train_X, test_X, train_y, test_y = train_test_split(X, y, test_size=0.2, random_state=42)"
   ]
  },
  {
   "cell_type": "code",
   "execution_count": 52,
   "id": "61aef767-ef82-4f5a-a06c-757b6de6667e",
   "metadata": {},
   "outputs": [],
   "source": [
    "import warnings\n",
    "warnings.filterwarnings(\"ignore\")\n",
    "import pickle\n",
    "\n",
    "models = [LogisticRegression, SVC, LinearSVC, KNeighborsClassifier, DecisionTreeClassifier, RandomForestClassifier, GaussianNB, Perceptron, SGDClassifier]\n",
    "model_names = ['Logistic_Regression', 'Support_Vector_Machines', 'Linear_SVC', \n",
    "              'KNN', 'Decision_Tree', 'Random_Forest', 'Naive_Bayes', \n",
    "              'Perceptron', 'Stochastic_Gradient_Decent']\n",
    "scores = []\n",
    "\n",
    "for i, model in enumerate(models):\n",
    "    classifier = model()\n",
    "    classifier.fit(train_X, train_y)\n",
    "    acc = round(classifier.score(test_X, test_y)*100, 2)\n",
    "    scores.append(acc)\n",
    "    \n",
    "    filename = 'model_' + model_names[i] + '.pkl'\n",
    "    with open(filename, 'wb') as file:\n",
    "        pickle.dump(classifier, file)\n",
    "    \n",
    "table = pd.DataFrame({'Model': model_names, 'Score': scores}).sort_values(by='Score', ascending=False)"
   ]
  },
  {
   "cell_type": "code",
   "execution_count": 53,
   "id": "d788f64c-e535-4924-9396-be33154c2493",
   "metadata": {},
   "outputs": [
    {
     "data": {
      "text/html": [
       "<div>\n",
       "<style scoped>\n",
       "    .dataframe tbody tr th:only-of-type {\n",
       "        vertical-align: middle;\n",
       "    }\n",
       "\n",
       "    .dataframe tbody tr th {\n",
       "        vertical-align: top;\n",
       "    }\n",
       "\n",
       "    .dataframe thead th {\n",
       "        text-align: right;\n",
       "    }\n",
       "</style>\n",
       "<table border=\"1\" class=\"dataframe\">\n",
       "  <thead>\n",
       "    <tr style=\"text-align: right;\">\n",
       "      <th></th>\n",
       "      <th>Model</th>\n",
       "      <th>Score</th>\n",
       "    </tr>\n",
       "  </thead>\n",
       "  <tbody>\n",
       "    <tr>\n",
       "      <th>5</th>\n",
       "      <td>Random_Forest</td>\n",
       "      <td>83.80</td>\n",
       "    </tr>\n",
       "    <tr>\n",
       "      <th>0</th>\n",
       "      <td>Logistic_Regression</td>\n",
       "      <td>81.56</td>\n",
       "    </tr>\n",
       "    <tr>\n",
       "      <th>4</th>\n",
       "      <td>Decision_Tree</td>\n",
       "      <td>79.33</td>\n",
       "    </tr>\n",
       "    <tr>\n",
       "      <th>6</th>\n",
       "      <td>Naive_Bayes</td>\n",
       "      <td>76.54</td>\n",
       "    </tr>\n",
       "    <tr>\n",
       "      <th>8</th>\n",
       "      <td>Stochastic_Gradient_Decent</td>\n",
       "      <td>73.74</td>\n",
       "    </tr>\n",
       "    <tr>\n",
       "      <th>3</th>\n",
       "      <td>KNN</td>\n",
       "      <td>71.51</td>\n",
       "    </tr>\n",
       "    <tr>\n",
       "      <th>1</th>\n",
       "      <td>Support_Vector_Machines</td>\n",
       "      <td>65.92</td>\n",
       "    </tr>\n",
       "    <tr>\n",
       "      <th>7</th>\n",
       "      <td>Perceptron</td>\n",
       "      <td>58.66</td>\n",
       "    </tr>\n",
       "    <tr>\n",
       "      <th>2</th>\n",
       "      <td>Linear_SVC</td>\n",
       "      <td>53.07</td>\n",
       "    </tr>\n",
       "  </tbody>\n",
       "</table>\n",
       "</div>"
      ],
      "text/plain": [
       "                        Model  Score\n",
       "5               Random_Forest  83.80\n",
       "0         Logistic_Regression  81.56\n",
       "4               Decision_Tree  79.33\n",
       "6                 Naive_Bayes  76.54\n",
       "8  Stochastic_Gradient_Decent  73.74\n",
       "3                         KNN  71.51\n",
       "1     Support_Vector_Machines  65.92\n",
       "7                  Perceptron  58.66\n",
       "2                  Linear_SVC  53.07"
      ]
     },
     "execution_count": 53,
     "metadata": {},
     "output_type": "execute_result"
    }
   ],
   "source": [
    "table"
   ]
  },
  {
   "cell_type": "markdown",
   "id": "a4cb851a-705c-4ba2-ba65-f88b18e8f9b6",
   "metadata": {
    "tags": []
   },
   "source": [
    "### Step 3:\n",
    "Test your models using the data found within the \"Holdout_testing\" file. Save the results of the final model (remember you will only predict the Survived column in holdout test set with your best model results) in a single, separate CSV titled \"Titanic Results from\" *insert your name or UChicago net ID."
   ]
  },
  {
   "cell_type": "markdown",
   "id": "3599e0d7-9307-4e0d-bfb8-3316b344a625",
   "metadata": {},
   "source": [
    "1. Prepare testing data set by applying the same feature engineering as training data set"
   ]
  },
  {
   "cell_type": "code",
   "execution_count": 54,
   "id": "1dbe13d1-a646-4799-ab8f-259f1b4e6d95",
   "metadata": {},
   "outputs": [],
   "source": [
    "test = pd.read_csv('holdout_test.csv')"
   ]
  },
  {
   "cell_type": "code",
   "execution_count": 55,
   "id": "a84a9fbc-99e9-4633-b33a-1020fa158bcd",
   "metadata": {},
   "outputs": [],
   "source": [
    "test = test.drop('Cabin', axis = 1)\n",
    "test['Age'] = test['Age'].interpolate()\n",
    "test['Embarked'].fillna('S', inplace = True)\n",
    "test = test.drop(['PassengerId', 'Name', 'Ticket'], axis=1)\n",
    "test['Sex'] = np.where(test['Sex'] == 'male', 0, 1)\n",
    "test.rename(columns = {'Sex':'Is_female'}, inplace = True)\n",
    "test = pd.get_dummies(test, columns = ['Pclass', 'Embarked'])\n",
    "test['Family'] = test['SibSp'] + test['Parch']\n",
    "test = test.drop(['SibSp', 'Parch'], axis = 1)\n",
    "test['Is_alone'] = np.where(test['Family']==0, 1, 0)\n",
    "test['Is_child'] = np.where(test['Age'] >= 15, 1, 0)"
   ]
  },
  {
   "cell_type": "code",
   "execution_count": 56,
   "id": "f4790a4c-43af-4d2d-8d5d-0c24c212adbe",
   "metadata": {},
   "outputs": [
    {
     "name": "stdout",
     "output_type": "stream",
     "text": [
      "(891, 13)\n",
      "(418, 13)\n"
     ]
    }
   ],
   "source": [
    "print(train.shape)\n",
    "print(test.shape)"
   ]
  },
  {
   "cell_type": "code",
   "execution_count": 57,
   "id": "0bf13b3c-60db-446b-8162-0779abd8577d",
   "metadata": {},
   "outputs": [
    {
     "name": "stdout",
     "output_type": "stream",
     "text": [
      "Index(['Survived', 'Is_female', 'Age', 'Fare', 'Pclass_1', 'Pclass_2',\n",
      "       'Pclass_3', 'Embarked_C', 'Embarked_Q', 'Embarked_S', 'Family',\n",
      "       'Is_alone', 'Is_child'],\n",
      "      dtype='object')\n",
      "Index(['Survived', 'Is_female', 'Age', 'Fare', 'Pclass_1', 'Pclass_2',\n",
      "       'Pclass_3', 'Embarked_C', 'Embarked_Q', 'Embarked_S', 'Family',\n",
      "       'Is_alone', 'Is_child'],\n",
      "      dtype='object')\n"
     ]
    }
   ],
   "source": [
    "print(train.columns)\n",
    "print(test.columns)"
   ]
  },
  {
   "cell_type": "markdown",
   "id": "78a838ff-5340-4d0d-8b01-51e0a03f8ed1",
   "metadata": {},
   "source": [
    "2. Found one null value in 'Fare' so filled it with the feature's mean"
   ]
  },
  {
   "cell_type": "code",
   "execution_count": 58,
   "id": "0f714c9a-12da-4114-aefc-b9840aa159f9",
   "metadata": {},
   "outputs": [
    {
     "name": "stdout",
     "output_type": "stream",
     "text": [
      "<class 'pandas.core.frame.DataFrame'>\n",
      "RangeIndex: 418 entries, 0 to 417\n",
      "Data columns (total 13 columns):\n",
      " #   Column      Non-Null Count  Dtype  \n",
      "---  ------      --------------  -----  \n",
      " 0   Survived    0 non-null      float64\n",
      " 1   Is_female   418 non-null    int64  \n",
      " 2   Age         418 non-null    float64\n",
      " 3   Fare        417 non-null    float64\n",
      " 4   Pclass_1    418 non-null    uint8  \n",
      " 5   Pclass_2    418 non-null    uint8  \n",
      " 6   Pclass_3    418 non-null    uint8  \n",
      " 7   Embarked_C  418 non-null    uint8  \n",
      " 8   Embarked_Q  418 non-null    uint8  \n",
      " 9   Embarked_S  418 non-null    uint8  \n",
      " 10  Family      418 non-null    int64  \n",
      " 11  Is_alone    418 non-null    int64  \n",
      " 12  Is_child    418 non-null    int64  \n",
      "dtypes: float64(3), int64(4), uint8(6)\n",
      "memory usage: 25.4 KB\n"
     ]
    }
   ],
   "source": [
    "test.info()"
   ]
  },
  {
   "cell_type": "code",
   "execution_count": 59,
   "id": "c68b8a0c-b926-4baf-a23b-3e97f076d74c",
   "metadata": {},
   "outputs": [],
   "source": [
    "test['Fare'] = test['Fare'].fillna(test['Fare'].mean())"
   ]
  },
  {
   "cell_type": "markdown",
   "id": "abcec08d-3c92-4af0-8eee-9c4a41de1073",
   "metadata": {},
   "source": [
    "3. Remove 'Survived' feature because we will predict the feature with the model built previously "
   ]
  },
  {
   "cell_type": "code",
   "execution_count": 60,
   "id": "153ca352-1ff0-49be-ba4f-21734322f316",
   "metadata": {},
   "outputs": [],
   "source": [
    "holdout_test_X = test.drop('Survived', axis = 1)"
   ]
  },
  {
   "cell_type": "code",
   "execution_count": 61,
   "id": "ab985e8a-3c31-4cd7-b32b-1ca4d489f722",
   "metadata": {},
   "outputs": [
    {
     "name": "stdout",
     "output_type": "stream",
     "text": [
      "<class 'pandas.core.frame.DataFrame'>\n",
      "RangeIndex: 418 entries, 0 to 417\n",
      "Data columns (total 12 columns):\n",
      " #   Column      Non-Null Count  Dtype  \n",
      "---  ------      --------------  -----  \n",
      " 0   Is_female   418 non-null    int64  \n",
      " 1   Age         418 non-null    float64\n",
      " 2   Fare        418 non-null    float64\n",
      " 3   Pclass_1    418 non-null    uint8  \n",
      " 4   Pclass_2    418 non-null    uint8  \n",
      " 5   Pclass_3    418 non-null    uint8  \n",
      " 6   Embarked_C  418 non-null    uint8  \n",
      " 7   Embarked_Q  418 non-null    uint8  \n",
      " 8   Embarked_S  418 non-null    uint8  \n",
      " 9   Family      418 non-null    int64  \n",
      " 10  Is_alone    418 non-null    int64  \n",
      " 11  Is_child    418 non-null    int64  \n",
      "dtypes: float64(2), int64(4), uint8(6)\n",
      "memory usage: 22.2 KB\n"
     ]
    }
   ],
   "source": [
    "holdout_test_X.info()"
   ]
  },
  {
   "cell_type": "markdown",
   "id": "bb61d96e-9331-4aa7-b0c2-c480dd3b47a3",
   "metadata": {},
   "source": [
    "1. Choose 'Random_Forest' to predict "
   ]
  },
  {
   "cell_type": "code",
   "execution_count": 62,
   "id": "269a074e-a786-497f-a409-bff242d71c1f",
   "metadata": {},
   "outputs": [],
   "source": [
    "model_names = ['Logistic_Regression', 'Support_Vector_Machines', 'Linear_SVC', \n",
    "              'KNN', 'Decision_Tree', 'Random_Forest', 'Naive_Bayes', \n",
    "              'Perceptron', 'Stochastic_Gradient_Decent']\n",
    "\n",
    "filename = 'model_' + 'Random_Forest' + '.pkl'\n",
    "loaded_model = pickle.load(open(filename, 'rb'))"
   ]
  },
  {
   "cell_type": "markdown",
   "id": "48f97a39-9dcf-44b6-bf3c-e75c4bf261cb",
   "metadata": {},
   "source": [
    "2. Predict whether 'Survived' or not having the feature in the data set 'holdout_test_X' and save it"
   ]
  },
  {
   "cell_type": "code",
   "execution_count": 63,
   "id": "f64b4c47-60b6-421c-b00f-266f74534412",
   "metadata": {},
   "outputs": [],
   "source": [
    "predictions = loaded_model.predict(holdout_test_X)\n",
    "predictions_df = pd.DataFrame({'Prediction': predictions})"
   ]
  },
  {
   "cell_type": "code",
   "execution_count": 64,
   "id": "c0d0ebd5-a98e-411f-bd5f-eb7523334345",
   "metadata": {},
   "outputs": [],
   "source": [
    "predictions_df.to_csv('Titanic Results.csv', index = False)"
   ]
  }
 ],
 "metadata": {
  "kernelspec": {
   "display_name": "Python 3 (ipykernel)",
   "language": "python",
   "name": "python3"
  },
  "language_info": {
   "codemirror_mode": {
    "name": "ipython",
    "version": 3
   },
   "file_extension": ".py",
   "mimetype": "text/x-python",
   "name": "python",
   "nbconvert_exporter": "python",
   "pygments_lexer": "ipython3",
   "version": "3.9.13"
  }
 },
 "nbformat": 4,
 "nbformat_minor": 5
}
